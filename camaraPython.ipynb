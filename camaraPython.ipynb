{
 "metadata": {
  "language_info": {
   "codemirror_mode": {
    "name": "ipython",
    "version": 3
   },
   "file_extension": ".py",
   "mimetype": "text/x-python",
   "name": "python",
   "nbconvert_exporter": "python",
   "pygments_lexer": "ipython3",
   "version": "3.7.3-final"
  },
  "orig_nbformat": 2,
  "kernelspec": {
   "name": "python37364bit698fe7c2acbd427883b13a8331694d68",
   "display_name": "Python 3.7.3 64-bit",
   "language": "python"
  }
 },
 "nbformat": 4,
 "nbformat_minor": 2,
 "cells": [
  {
   "source": [
    "<h1 align=\"center\">\n",
    "    Abrir camara web con Python y OpenCV\n",
    "</h1>"
   ],
   "cell_type": "markdown",
   "metadata": {}
  },
  {
   "source": [
    "<p>\n",
    "    En este tutorial vamos a ver como adquirir y mostrar imágenes de una     cámara usando OpenCV y python. OpenCV ofrece varias alternativas         para conectarse a una cámara a traves de la función cv2.VideoCapture().\n",
    "</p>"
   ],
   "cell_type": "markdown",
   "metadata": {}
  },
  {
   "source": [
    "<h2>\n",
    "    Capturar y mostrar una imagen \n",
    "</h2>"
   ],
   "cell_type": "markdown",
   "metadata": {}
  },
  {
   "cell_type": "code",
   "execution_count": 1,
   "metadata": {},
   "outputs": [
    {
     "output_type": "execute_result",
     "data": {
      "text/plain": [
       "113"
      ]
     },
     "metadata": {},
     "execution_count": 1
    }
   ],
   "source": [
    "import cv2\n",
    "\n",
    "camera = cv2.VideoCapture()\n",
    "\n",
    "\"\"\" \n",
    "camera.open(0) -> el nuero de cámaras que se tiene conectado\n",
    "camera.open(1) -> el nuero de cámaras que se tiene conectado\n",
    ".\n",
    ".\n",
    ".\n",
    "camera.open(n) -> el nuero de cámara que se tiene conectado\n",
    "\"\"\"\n",
    "camera.open(1)\n",
    "ret, frame = camera.read()\n",
    "# se muestra la imagen \n",
    "cv2.imshow('frame', frame)\n",
    "# presionar la tecla Q para cerrar la ventana\n",
    "cv2.waitKey(0)\n",
    "# cerrar la cámara\n",
    "camera.release()\n",
    "cv2.destroyAllWindows()\n",
    "print(\"video detenido\")"
   ]
  },
  {
   "source": [
    "<h2>\n",
    "    Capturar Video de la cámara\n",
    "</h2>"
   ],
   "cell_type": "markdown",
   "metadata": {}
  },
  {
   "source": [
    "import cv2\n",
    "\n",
    "camera = cv2.VideoCapture()\n",
    "camera.open(1)\n",
    "\n",
    "while True:\n",
    "    # capturar frame a frame\n",
    "    ret, frame = camera.read()\n",
    "    # si el frame se captura correctamente ret es True\n",
    "    if not ret:\n",
    "        print(\"no se pudo capurar la imagen\")\n",
    "        break\n",
    "    # se muestra el frame\n",
    "    cv2.imshow('frame', frame)\n",
    "    #presionamos la tecla Q para cerrar la ventana\n",
    "    if cv2.waitKey(1) == ord('q'):\n",
    "        break\n",
    "# cerrar la cámara\n",
    "camera.release()\n",
    "cv2.destroyAllWindows()\n",
    "print(\"video detenido\")"
   ],
   "cell_type": "code",
   "metadata": {},
   "execution_count": null,
   "outputs": []
  },
  {
   "source": [
    "<h2>\n",
    "    Capturar video desde el IP de la cámara\n",
    "</h2>"
   ],
   "cell_type": "markdown",
   "metadata": {}
  },
  {
   "cell_type": "code",
   "execution_count": null,
   "metadata": {},
   "outputs": [],
   "source": [
    "import cv2\n",
    "\n",
    "camera = cv2.VideoCapture()\n",
    "# poner el IP de la cámara\n",
    "camera.open('192.168.18.37')\n",
    "\n",
    "while True:\n",
    "    # capturar frame a frame\n",
    "    ret, frame = camera.read()\n",
    "    # si el frame se captura correctamente ret es True\n",
    "    if not ret:\n",
    "        print(\"no se pudo capurar la imagen\")\n",
    "        break\n",
    "    # se muestra el frame\n",
    "    cv2.imshow('frame', frame)\n",
    "    #presionamos la tecla Q para cerrar la ventana\n",
    "    if cv2.waitKey(1) == ord('q'):\n",
    "        break\n",
    "# cerrar la cámara\n",
    "camera.release()\n",
    "cv2.destroyAllWindows()\n",
    "print(\"video detenido\")"
   ]
  },
  {
   "source": [
    "<h2>\n",
    "    Capturar video de cámara de celular con DroidCam y wi-fi\n",
    "</h2>"
   ],
   "cell_type": "markdown",
   "metadata": {}
  },
  {
   "cell_type": "code",
   "execution_count": null,
   "metadata": {},
   "outputs": [],
   "source": [
    "import cv2\n",
    "\n",
    "camera = cv2.VideoCapture()\n",
    "camera.open('http://192.168.1.4:4747/videostream.cgi?.mjpg')\n",
    "\n",
    "while True:\n",
    "    # capturar frame a frame\n",
    "    ret, frame = camera.read()\n",
    "    # si el frame se captura correctamente ret es True\n",
    "    if not ret:\n",
    "        print(\"no se pudo capurar la imagen\")\n",
    "        break\n",
    "    # se muestra el frame\n",
    "    cv2.imshow('frame', frame)\n",
    "    #presionamos la tecla Q para cerrar la ventana\n",
    "    if cv2.waitKey(1) == ord('q'):\n",
    "        break\n",
    "# cerrar la cámara\n",
    "camera.release()\n",
    "cv2.destroyAllWindows()\n",
    "print(\"video detenido\")"
   ]
  },
  {
   "source": [
    "<h2>\n",
    "    Listar cámaras disponibles conectadas al computador en Ubuntu\n",
    "</h2>"
   ],
   "cell_type": "markdown",
   "metadata": {}
  },
  {
   "source": [
    "```\n",
    "ls /dev/video*\n",
    "```"
   ],
   "cell_type": "markdown",
   "metadata": {}
  }
 ]
}